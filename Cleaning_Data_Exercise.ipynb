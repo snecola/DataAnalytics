{
 "cells": [
  {
   "cell_type": "markdown",
   "metadata": {},
   "source": [
    "## DA_Fall21_HW_1 Due at Mid-night 10/19/2021"
   ]
  },
  {
   "cell_type": "markdown",
   "metadata": {},
   "source": [
    "### This homework will cover the following skills set\n",
    "* Using sql \n",
    "* Checking for null values and outliers\n",
    "* Calculate simple statistics using both SQL and Pandas \n",
    "* Calculate skew and correlation\n",
    "* Basic Data Visualization\n",
    "* How to fix missing values"
   ]
  },
  {
   "cell_type": "markdown",
   "metadata": {},
   "source": [
    "## Late Policy: Take off 50% after one day, 80% after two days"
   ]
  },
  {
   "cell_type": "markdown",
   "metadata": {},
   "source": [
    "**Make sure you have pandasql installed. If not, make sure you run the code in the following cell**"
   ]
  },
  {
   "cell_type": "code",
   "execution_count": 195,
   "metadata": {},
   "outputs": [],
   "source": [
    "import os\n",
    "try:\n",
    "    import pandasql as ps\n",
    "except:\n",
    "    print(\"Failed in import pandasql\")\n",
    "    os.system(\"pip install pandasql\")"
   ]
  },
  {
   "cell_type": "markdown",
   "metadata": {},
   "source": [
    "**Import all standard libaries**"
   ]
  },
  {
   "cell_type": "code",
   "execution_count": 196,
   "metadata": {},
   "outputs": [],
   "source": [
    "import pandas as pd\n",
    "import pandasql as ps\n",
    "import numpy as np\n",
    "import matplotlib.pyplot as plt\n",
    "import seaborn as sns"
   ]
  },
  {
   "cell_type": "markdown",
   "metadata": {},
   "source": [
    "## Loading Car Crashes dataset ##"
   ]
  },
  {
   "cell_type": "code",
   "execution_count": 197,
   "metadata": {},
   "outputs": [
    {
     "name": "stdout",
     "output_type": "stream",
     "text": [
      "(54, 10)\n"
     ]
    },
    {
     "data": {
      "text/html": [
       "<div>\n",
       "<style scoped>\n",
       "    .dataframe tbody tr th:only-of-type {\n",
       "        vertical-align: middle;\n",
       "    }\n",
       "\n",
       "    .dataframe tbody tr th {\n",
       "        vertical-align: top;\n",
       "    }\n",
       "\n",
       "    .dataframe thead th {\n",
       "        text-align: right;\n",
       "    }\n",
       "</style>\n",
       "<table border=\"1\" class=\"dataframe\">\n",
       "  <thead>\n",
       "    <tr style=\"text-align: right;\">\n",
       "      <th></th>\n",
       "      <th>accidents</th>\n",
       "      <th>speeding</th>\n",
       "      <th>alcohol</th>\n",
       "      <th>not_distracted</th>\n",
       "      <th>no_previous</th>\n",
       "      <th>ins_premium</th>\n",
       "      <th>ins_losses</th>\n",
       "      <th>state</th>\n",
       "      <th>region</th>\n",
       "      <th>division</th>\n",
       "    </tr>\n",
       "  </thead>\n",
       "  <tbody>\n",
       "    <tr>\n",
       "      <th>0</th>\n",
       "      <td>18.8</td>\n",
       "      <td>7.332</td>\n",
       "      <td>5.640</td>\n",
       "      <td>18.048</td>\n",
       "      <td>15.040</td>\n",
       "      <td>784.55</td>\n",
       "      <td>145.08</td>\n",
       "      <td>AL</td>\n",
       "      <td>South</td>\n",
       "      <td>East South Central</td>\n",
       "    </tr>\n",
       "    <tr>\n",
       "      <th>1</th>\n",
       "      <td>18.1</td>\n",
       "      <td>7.421</td>\n",
       "      <td>4.525</td>\n",
       "      <td>16.290</td>\n",
       "      <td>17.014</td>\n",
       "      <td>1053.48</td>\n",
       "      <td>133.93</td>\n",
       "      <td>AK</td>\n",
       "      <td>West</td>\n",
       "      <td>Pacific</td>\n",
       "    </tr>\n",
       "    <tr>\n",
       "      <th>2</th>\n",
       "      <td>18.6</td>\n",
       "      <td>6.510</td>\n",
       "      <td>5.208</td>\n",
       "      <td>15.624</td>\n",
       "      <td>17.856</td>\n",
       "      <td>899.47</td>\n",
       "      <td>110.35</td>\n",
       "      <td>AZ</td>\n",
       "      <td>West</td>\n",
       "      <td>Mountain</td>\n",
       "    </tr>\n",
       "    <tr>\n",
       "      <th>3</th>\n",
       "      <td>22.4</td>\n",
       "      <td>4.032</td>\n",
       "      <td>5.824</td>\n",
       "      <td>21.056</td>\n",
       "      <td>21.280</td>\n",
       "      <td>827.34</td>\n",
       "      <td>142.39</td>\n",
       "      <td>AR</td>\n",
       "      <td>South</td>\n",
       "      <td>West South Central</td>\n",
       "    </tr>\n",
       "    <tr>\n",
       "      <th>4</th>\n",
       "      <td>12.0</td>\n",
       "      <td>4.200</td>\n",
       "      <td>3.360</td>\n",
       "      <td>10.920</td>\n",
       "      <td>10.680</td>\n",
       "      <td>878.41</td>\n",
       "      <td>165.63</td>\n",
       "      <td>CA</td>\n",
       "      <td>West</td>\n",
       "      <td>Pacific</td>\n",
       "    </tr>\n",
       "    <tr>\n",
       "      <th>5</th>\n",
       "      <td>13.6</td>\n",
       "      <td>5.032</td>\n",
       "      <td>3.808</td>\n",
       "      <td>10.744</td>\n",
       "      <td>12.920</td>\n",
       "      <td>835.50</td>\n",
       "      <td>139.91</td>\n",
       "      <td>CO</td>\n",
       "      <td>West</td>\n",
       "      <td>Mountain</td>\n",
       "    </tr>\n",
       "    <tr>\n",
       "      <th>6</th>\n",
       "      <td>10.8</td>\n",
       "      <td>4.968</td>\n",
       "      <td>3.888</td>\n",
       "      <td>9.396</td>\n",
       "      <td>8.856</td>\n",
       "      <td>1068.73</td>\n",
       "      <td>167.02</td>\n",
       "      <td>CT</td>\n",
       "      <td>Northeast</td>\n",
       "      <td>New England</td>\n",
       "    </tr>\n",
       "    <tr>\n",
       "      <th>7</th>\n",
       "      <td>16.2</td>\n",
       "      <td>6.156</td>\n",
       "      <td>4.860</td>\n",
       "      <td>14.094</td>\n",
       "      <td>16.038</td>\n",
       "      <td>1137.87</td>\n",
       "      <td>151.48</td>\n",
       "      <td>DE</td>\n",
       "      <td>South</td>\n",
       "      <td>South Atlantic</td>\n",
       "    </tr>\n",
       "    <tr>\n",
       "      <th>8</th>\n",
       "      <td>5.9</td>\n",
       "      <td>2.006</td>\n",
       "      <td>1.593</td>\n",
       "      <td>5.900</td>\n",
       "      <td>5.900</td>\n",
       "      <td>1273.89</td>\n",
       "      <td>136.05</td>\n",
       "      <td>DC</td>\n",
       "      <td>South</td>\n",
       "      <td>South Atlantic</td>\n",
       "    </tr>\n",
       "    <tr>\n",
       "      <th>9</th>\n",
       "      <td>17.9</td>\n",
       "      <td>3.759</td>\n",
       "      <td>5.191</td>\n",
       "      <td>16.468</td>\n",
       "      <td>16.826</td>\n",
       "      <td>1160.13</td>\n",
       "      <td>144.18</td>\n",
       "      <td>FL</td>\n",
       "      <td>South</td>\n",
       "      <td>South Atlantic</td>\n",
       "    </tr>\n",
       "    <tr>\n",
       "      <th>10</th>\n",
       "      <td>15.6</td>\n",
       "      <td>2.964</td>\n",
       "      <td>3.900</td>\n",
       "      <td>14.820</td>\n",
       "      <td>14.508</td>\n",
       "      <td>913.15</td>\n",
       "      <td>142.80</td>\n",
       "      <td>GA</td>\n",
       "      <td>South</td>\n",
       "      <td>South Atlantic</td>\n",
       "    </tr>\n",
       "    <tr>\n",
       "      <th>11</th>\n",
       "      <td>17.5</td>\n",
       "      <td>9.450</td>\n",
       "      <td>7.175</td>\n",
       "      <td>14.350</td>\n",
       "      <td>15.225</td>\n",
       "      <td>861.18</td>\n",
       "      <td>120.92</td>\n",
       "      <td>HI</td>\n",
       "      <td>West</td>\n",
       "      <td>Pacific</td>\n",
       "    </tr>\n",
       "    <tr>\n",
       "      <th>12</th>\n",
       "      <td>15.3</td>\n",
       "      <td>5.508</td>\n",
       "      <td>4.437</td>\n",
       "      <td>13.005</td>\n",
       "      <td>14.994</td>\n",
       "      <td>641.96</td>\n",
       "      <td>82.75</td>\n",
       "      <td>ID</td>\n",
       "      <td>West</td>\n",
       "      <td>Mountain</td>\n",
       "    </tr>\n",
       "    <tr>\n",
       "      <th>13</th>\n",
       "      <td>12.8</td>\n",
       "      <td>4.608</td>\n",
       "      <td>4.352</td>\n",
       "      <td>12.032</td>\n",
       "      <td>12.288</td>\n",
       "      <td>803.11</td>\n",
       "      <td>139.15</td>\n",
       "      <td>IL</td>\n",
       "      <td>Midwest</td>\n",
       "      <td>East North Central</td>\n",
       "    </tr>\n",
       "    <tr>\n",
       "      <th>14</th>\n",
       "      <td>14.5</td>\n",
       "      <td>3.625</td>\n",
       "      <td>4.205</td>\n",
       "      <td>13.775</td>\n",
       "      <td>13.775</td>\n",
       "      <td>710.46</td>\n",
       "      <td>108.92</td>\n",
       "      <td>IN</td>\n",
       "      <td>Midwest</td>\n",
       "      <td>East North Central</td>\n",
       "    </tr>\n",
       "    <tr>\n",
       "      <th>15</th>\n",
       "      <td>15.7</td>\n",
       "      <td>2.669</td>\n",
       "      <td>3.925</td>\n",
       "      <td>15.229</td>\n",
       "      <td>13.659</td>\n",
       "      <td>649.06</td>\n",
       "      <td>114.47</td>\n",
       "      <td>IA</td>\n",
       "      <td>Midwest</td>\n",
       "      <td>West North Central</td>\n",
       "    </tr>\n",
       "    <tr>\n",
       "      <th>16</th>\n",
       "      <td>17.8</td>\n",
       "      <td>4.806</td>\n",
       "      <td>4.272</td>\n",
       "      <td>13.706</td>\n",
       "      <td>15.130</td>\n",
       "      <td>780.45</td>\n",
       "      <td>133.80</td>\n",
       "      <td>KS</td>\n",
       "      <td>Midwest</td>\n",
       "      <td>West North Central</td>\n",
       "    </tr>\n",
       "    <tr>\n",
       "      <th>17</th>\n",
       "      <td>21.4</td>\n",
       "      <td>4.066</td>\n",
       "      <td>4.922</td>\n",
       "      <td>16.692</td>\n",
       "      <td>16.264</td>\n",
       "      <td>872.51</td>\n",
       "      <td>137.13</td>\n",
       "      <td>KY</td>\n",
       "      <td>South</td>\n",
       "      <td>East South Central</td>\n",
       "    </tr>\n",
       "    <tr>\n",
       "      <th>18</th>\n",
       "      <td>20.5</td>\n",
       "      <td>7.175</td>\n",
       "      <td>6.765</td>\n",
       "      <td>14.965</td>\n",
       "      <td>20.090</td>\n",
       "      <td>1281.55</td>\n",
       "      <td>194.78</td>\n",
       "      <td>LA</td>\n",
       "      <td>South</td>\n",
       "      <td>West South Central</td>\n",
       "    </tr>\n",
       "    <tr>\n",
       "      <th>19</th>\n",
       "      <td>15.1</td>\n",
       "      <td>5.738</td>\n",
       "      <td>4.530</td>\n",
       "      <td>13.137</td>\n",
       "      <td>12.684</td>\n",
       "      <td>661.88</td>\n",
       "      <td>96.57</td>\n",
       "      <td>ME</td>\n",
       "      <td>Northeast</td>\n",
       "      <td>New England</td>\n",
       "    </tr>\n",
       "  </tbody>\n",
       "</table>\n",
       "</div>"
      ],
      "text/plain": [
       "    accidents  speeding  alcohol  not_distracted  no_previous  ins_premium  \\\n",
       "0        18.8     7.332    5.640          18.048       15.040       784.55   \n",
       "1        18.1     7.421    4.525          16.290       17.014      1053.48   \n",
       "2        18.6     6.510    5.208          15.624       17.856       899.47   \n",
       "3        22.4     4.032    5.824          21.056       21.280       827.34   \n",
       "4        12.0     4.200    3.360          10.920       10.680       878.41   \n",
       "5        13.6     5.032    3.808          10.744       12.920       835.50   \n",
       "6        10.8     4.968    3.888           9.396        8.856      1068.73   \n",
       "7        16.2     6.156    4.860          14.094       16.038      1137.87   \n",
       "8         5.9     2.006    1.593           5.900        5.900      1273.89   \n",
       "9        17.9     3.759    5.191          16.468       16.826      1160.13   \n",
       "10       15.6     2.964    3.900          14.820       14.508       913.15   \n",
       "11       17.5     9.450    7.175          14.350       15.225       861.18   \n",
       "12       15.3     5.508    4.437          13.005       14.994       641.96   \n",
       "13       12.8     4.608    4.352          12.032       12.288       803.11   \n",
       "14       14.5     3.625    4.205          13.775       13.775       710.46   \n",
       "15       15.7     2.669    3.925          15.229       13.659       649.06   \n",
       "16       17.8     4.806    4.272          13.706       15.130       780.45   \n",
       "17       21.4     4.066    4.922          16.692       16.264       872.51   \n",
       "18       20.5     7.175    6.765          14.965       20.090      1281.55   \n",
       "19       15.1     5.738    4.530          13.137       12.684       661.88   \n",
       "\n",
       "    ins_losses state     region            division  \n",
       "0       145.08    AL      South  East South Central  \n",
       "1       133.93    AK       West             Pacific  \n",
       "2       110.35    AZ       West            Mountain  \n",
       "3       142.39    AR      South  West South Central  \n",
       "4       165.63    CA       West             Pacific  \n",
       "5       139.91    CO       West            Mountain  \n",
       "6       167.02    CT  Northeast         New England  \n",
       "7       151.48    DE      South      South Atlantic  \n",
       "8       136.05    DC      South      South Atlantic  \n",
       "9       144.18    FL      South      South Atlantic  \n",
       "10      142.80    GA      South      South Atlantic  \n",
       "11      120.92    HI       West             Pacific  \n",
       "12       82.75    ID       West            Mountain  \n",
       "13      139.15    IL    Midwest  East North Central  \n",
       "14      108.92    IN    Midwest  East North Central  \n",
       "15      114.47    IA    Midwest  West North Central  \n",
       "16      133.80    KS    Midwest  West North Central  \n",
       "17      137.13    KY      South  East South Central  \n",
       "18      194.78    LA      South  West South Central  \n",
       "19       96.57    ME  Northeast         New England  "
      ]
     },
     "execution_count": 197,
     "metadata": {},
     "output_type": "execute_result"
    }
   ],
   "source": [
    "crash = pd.read_csv(\"car_crashes2.csv\")\n",
    "print(crash.shape)\n",
    "crash.head(10)"
   ]
  },
  {
   "cell_type": "markdown",
   "metadata": {},
   "source": [
    "* accidents is the total number of crashes for each state\n",
    "* speeding is the average speeding in each state"
   ]
  },
  {
   "cell_type": "code",
   "execution_count": 198,
   "metadata": {},
   "outputs": [
    {
     "data": {
      "text/html": [
       "<div>\n",
       "<style scoped>\n",
       "    .dataframe tbody tr th:only-of-type {\n",
       "        vertical-align: middle;\n",
       "    }\n",
       "\n",
       "    .dataframe tbody tr th {\n",
       "        vertical-align: top;\n",
       "    }\n",
       "\n",
       "    .dataframe thead th {\n",
       "        text-align: right;\n",
       "    }\n",
       "</style>\n",
       "<table border=\"1\" class=\"dataframe\">\n",
       "  <thead>\n",
       "    <tr style=\"text-align: right;\">\n",
       "      <th></th>\n",
       "      <th>accidents</th>\n",
       "      <th>speeding</th>\n",
       "      <th>alcohol</th>\n",
       "      <th>not_distracted</th>\n",
       "      <th>no_previous</th>\n",
       "      <th>ins_premium</th>\n",
       "      <th>ins_losses</th>\n",
       "    </tr>\n",
       "  </thead>\n",
       "  <tbody>\n",
       "    <tr>\n",
       "      <th>count</th>\n",
       "      <td>54.000000</td>\n",
       "      <td>53.000000</td>\n",
       "      <td>54.000000</td>\n",
       "      <td>54.000000</td>\n",
       "      <td>54.000000</td>\n",
       "      <td>53.000000</td>\n",
       "      <td>54.000000</td>\n",
       "    </tr>\n",
       "    <tr>\n",
       "      <th>mean</th>\n",
       "      <td>15.668519</td>\n",
       "      <td>5.028755</td>\n",
       "      <td>5.506778</td>\n",
       "      <td>13.545407</td>\n",
       "      <td>13.931500</td>\n",
       "      <td>908.318113</td>\n",
       "      <td>133.967407</td>\n",
       "    </tr>\n",
       "    <tr>\n",
       "      <th>std</th>\n",
       "      <td>4.087386</td>\n",
       "      <td>2.000479</td>\n",
       "      <td>5.157681</td>\n",
       "      <td>4.463259</td>\n",
       "      <td>3.730217</td>\n",
       "      <td>232.237787</td>\n",
       "      <td>24.703393</td>\n",
       "    </tr>\n",
       "    <tr>\n",
       "      <th>min</th>\n",
       "      <td>5.900000</td>\n",
       "      <td>1.792000</td>\n",
       "      <td>1.593000</td>\n",
       "      <td>1.760000</td>\n",
       "      <td>5.900000</td>\n",
       "      <td>641.960000</td>\n",
       "      <td>82.750000</td>\n",
       "    </tr>\n",
       "    <tr>\n",
       "      <th>25%</th>\n",
       "      <td>12.725000</td>\n",
       "      <td>3.774000</td>\n",
       "      <td>3.891000</td>\n",
       "      <td>10.345000</td>\n",
       "      <td>11.262000</td>\n",
       "      <td>768.950000</td>\n",
       "      <td>112.332500</td>\n",
       "    </tr>\n",
       "    <tr>\n",
       "      <th>50%</th>\n",
       "      <td>15.450000</td>\n",
       "      <td>4.608000</td>\n",
       "      <td>4.542000</td>\n",
       "      <td>13.816000</td>\n",
       "      <td>13.717000</td>\n",
       "      <td>861.180000</td>\n",
       "      <td>135.840000</td>\n",
       "    </tr>\n",
       "    <tr>\n",
       "      <th>75%</th>\n",
       "      <td>18.350000</td>\n",
       "      <td>6.510000</td>\n",
       "      <td>5.622000</td>\n",
       "      <td>16.215000</td>\n",
       "      <td>16.579000</td>\n",
       "      <td>1011.140000</td>\n",
       "      <td>152.065000</td>\n",
       "    </tr>\n",
       "    <tr>\n",
       "      <th>max</th>\n",
       "      <td>23.900000</td>\n",
       "      <td>9.450000</td>\n",
       "      <td>40.642000</td>\n",
       "      <td>23.661000</td>\n",
       "      <td>21.280000</td>\n",
       "      <td>2000.030000</td>\n",
       "      <td>194.780000</td>\n",
       "    </tr>\n",
       "  </tbody>\n",
       "</table>\n",
       "</div>"
      ],
      "text/plain": [
       "       accidents   speeding    alcohol  not_distracted  no_previous  \\\n",
       "count  54.000000  53.000000  54.000000       54.000000    54.000000   \n",
       "mean   15.668519   5.028755   5.506778       13.545407    13.931500   \n",
       "std     4.087386   2.000479   5.157681        4.463259     3.730217   \n",
       "min     5.900000   1.792000   1.593000        1.760000     5.900000   \n",
       "25%    12.725000   3.774000   3.891000       10.345000    11.262000   \n",
       "50%    15.450000   4.608000   4.542000       13.816000    13.717000   \n",
       "75%    18.350000   6.510000   5.622000       16.215000    16.579000   \n",
       "max    23.900000   9.450000  40.642000       23.661000    21.280000   \n",
       "\n",
       "       ins_premium  ins_losses  \n",
       "count    53.000000   54.000000  \n",
       "mean    908.318113  133.967407  \n",
       "std     232.237787   24.703393  \n",
       "min     641.960000   82.750000  \n",
       "25%     768.950000  112.332500  \n",
       "50%     861.180000  135.840000  \n",
       "75%    1011.140000  152.065000  \n",
       "max    2000.030000  194.780000  "
      ]
     },
     "execution_count": 198,
     "metadata": {},
     "output_type": "execute_result"
    }
   ],
   "source": [
    "crash.describe()"
   ]
  },
  {
   "cell_type": "markdown",
   "metadata": {},
   "source": [
    "## Question 1. Check if there are any null or NA"
   ]
  },
  {
   "cell_type": "code",
   "execution_count": 199,
   "metadata": {},
   "outputs": [
    {
     "data": {
      "text/plain": [
       "accidents         False\n",
       "speeding           True\n",
       "alcohol           False\n",
       "not_distracted    False\n",
       "no_previous       False\n",
       "ins_premium        True\n",
       "ins_losses        False\n",
       "state             False\n",
       "region            False\n",
       "division          False\n",
       "dtype: bool"
      ]
     },
     "execution_count": 199,
     "metadata": {},
     "output_type": "execute_result"
    }
   ],
   "source": [
    "crash.isnull().any()"
   ]
  },
  {
   "cell_type": "markdown",
   "metadata": {},
   "source": [
    "## Question 2. Remove any rows that has null or NA"
   ]
  },
  {
   "cell_type": "code",
   "execution_count": 200,
   "metadata": {},
   "outputs": [
    {
     "data": {
      "text/plain": [
       "(52, 10)"
      ]
     },
     "execution_count": 200,
     "metadata": {},
     "output_type": "execute_result"
    }
   ],
   "source": [
    "crash = crash.dropna()\n",
    "crash.shape"
   ]
  },
  {
   "cell_type": "markdown",
   "metadata": {},
   "source": [
    "## Question 3. Check if there is any outliers in all numerical fields using both scatter and boxplot"
   ]
  },
  {
   "cell_type": "code",
   "execution_count": 201,
   "metadata": {},
   "outputs": [
    {
     "data": {
      "image/png": "[encoded data removed]",
      "text/plain": [
       "<Figure size 720x720 with 1 Axes>"
      ]
     },
     "metadata": {
      "needs_background": "light"
     },
     "output_type": "display_data"
    },
    {
     "data": {
      "image/png": "[encoded data removed]",
      "text/plain": [
       "<Figure size 720x720 with 1 Axes>"
      ]
     },
     "metadata": {
      "needs_background": "light"
     },
     "output_type": "display_data"
    }
   ],
   "source": [
    "box = crash.boxplot(figsize=(10,10))\n",
    "\n",
    "scatter = crash.plot.scatter(x=\"ins_premium\", y=\"alcohol\", c='blue', figsize = (10,10))"
   ]
  },
  {
   "cell_type": "markdown",
   "metadata": {},
   "source": [
    "## Question 4. Display and Remove (the real) outliers"
   ]
  },
  {
   "cell_type": "code",
   "execution_count": 202,
   "metadata": {},
   "outputs": [
    {
     "data": {
      "text/plain": [
       "(50, 10)"
      ]
     },
     "execution_count": 202,
     "metadata": {},
     "output_type": "execute_result"
    },
    {
     "data": {
      "image/png": "[encoded data removed]",
      "text/plain": [
       "<Figure size 720x720 with 1 Axes>"
      ]
     },
     "metadata": {
      "needs_background": "light"
     },
     "output_type": "display_data"
    }
   ],
   "source": [
    "# Remove outlier in ins_premium\n",
    "rmo1 = crash['ins_premium'] < 1500\n",
    "# Remove outlier in alcohol\n",
    "rmo2 = crash['alcohol'] < 30\n",
    "# Merge the changes\n",
    "rmo = rmo1 & rmo2\n",
    "# Set the new values in crash\n",
    "crash = crash[rmo]\n",
    "# Visualize the data w/o outliers\n",
    "crash.plot.scatter(x = 'ins_premium', y = 'alcohol' , c = 'blue' , figsize = (10,10))\n",
    "crash.shape"
   ]
  },
  {
   "cell_type": "markdown",
   "metadata": {},
   "source": [
    "## Question 5. Calculate the average speeding in usa and Northeast region using SQL"
   ]
  },
  {
   "cell_type": "code",
   "execution_count": 203,
   "metadata": {},
   "outputs": [
    {
     "data": {
      "text/html": [
       "<div>\n",
       "<style scoped>\n",
       "    .dataframe tbody tr th:only-of-type {\n",
       "        vertical-align: middle;\n",
       "    }\n",
       "\n",
       "    .dataframe tbody tr th {\n",
       "        vertical-align: top;\n",
       "    }\n",
       "\n",
       "    .dataframe thead th {\n",
       "        text-align: right;\n",
       "    }\n",
       "</style>\n",
       "<table border=\"1\" class=\"dataframe\">\n",
       "  <thead>\n",
       "    <tr style=\"text-align: right;\">\n",
       "      <th></th>\n",
       "      <th>region</th>\n",
       "      <th>AverageSpeeding</th>\n",
       "    </tr>\n",
       "  </thead>\n",
       "  <tbody>\n",
       "    <tr>\n",
       "      <th>0</th>\n",
       "      <td>Northeast</td>\n",
       "      <td>4.42475</td>\n",
       "    </tr>\n",
       "  </tbody>\n",
       "</table>\n",
       "</div>"
      ],
      "text/plain": [
       "      region  AverageSpeeding\n",
       "0  Northeast          4.42475"
      ]
     },
     "execution_count": 203,
     "metadata": {},
     "output_type": "execute_result"
    }
   ],
   "source": [
    "avgSpeedingSQL = 'SELECT region, avg(speeding) AverageSpeeding FROM crash WHERE region = \"Northeast\"'\n",
    "query = ps.sqldf(avgSpeedingSQL)\n",
    "query"
   ]
  },
  {
   "cell_type": "markdown",
   "metadata": {},
   "source": [
    "## Question 6. Calculate the average alcohol for each region using SQL"
   ]
  },
  {
   "cell_type": "code",
   "execution_count": 204,
   "metadata": {},
   "outputs": [
    {
     "data": {
      "text/html": [
       "<div>\n",
       "<style scoped>\n",
       "    .dataframe tbody tr th:only-of-type {\n",
       "        vertical-align: middle;\n",
       "    }\n",
       "\n",
       "    .dataframe tbody tr th {\n",
       "        vertical-align: top;\n",
       "    }\n",
       "\n",
       "    .dataframe thead th {\n",
       "        text-align: right;\n",
       "    }\n",
       "</style>\n",
       "<table border=\"1\" class=\"dataframe\">\n",
       "  <thead>\n",
       "    <tr style=\"text-align: right;\">\n",
       "      <th></th>\n",
       "      <th>region</th>\n",
       "      <th>AverageAlcohol</th>\n",
       "    </tr>\n",
       "  </thead>\n",
       "  <tbody>\n",
       "    <tr>\n",
       "      <th>0</th>\n",
       "      <td>Midwest</td>\n",
       "      <td>4.996917</td>\n",
       "    </tr>\n",
       "    <tr>\n",
       "      <th>1</th>\n",
       "      <td>Northeast</td>\n",
       "      <td>3.980500</td>\n",
       "    </tr>\n",
       "    <tr>\n",
       "      <th>2</th>\n",
       "      <td>South</td>\n",
       "      <td>5.414647</td>\n",
       "    </tr>\n",
       "    <tr>\n",
       "      <th>3</th>\n",
       "      <td>West</td>\n",
       "      <td>4.754077</td>\n",
       "    </tr>\n",
       "  </tbody>\n",
       "</table>\n",
       "</div>"
      ],
      "text/plain": [
       "      region  AverageAlcohol\n",
       "0    Midwest        4.996917\n",
       "1  Northeast        3.980500\n",
       "2      South        5.414647\n",
       "3       West        4.754077"
      ]
     },
     "execution_count": 204,
     "metadata": {},
     "output_type": "execute_result"
    }
   ],
   "source": [
    "avgAlcoholSQL = 'SELECT region, avg(alcohol) AverageAlcohol FROM crash GROUP BY region'\n",
    "query = ps.sqldf(avgAlcoholSQL)\n",
    "query"
   ]
  },
  {
   "cell_type": "markdown",
   "metadata": {},
   "source": [
    "## Question 7. Calculate the number of occurrences, mean, min, max of the speeding for each divison using SQL"
   ]
  },
  {
   "cell_type": "code",
   "execution_count": 205,
   "metadata": {},
   "outputs": [
    {
     "data": {
      "text/html": [
       "<div>\n",
       "<style scoped>\n",
       "    .dataframe tbody tr th:only-of-type {\n",
       "        vertical-align: middle;\n",
       "    }\n",
       "\n",
       "    .dataframe tbody tr th {\n",
       "        vertical-align: top;\n",
       "    }\n",
       "\n",
       "    .dataframe thead th {\n",
       "        text-align: right;\n",
       "    }\n",
       "</style>\n",
       "<table border=\"1\" class=\"dataframe\">\n",
       "  <thead>\n",
       "    <tr style=\"text-align: right;\">\n",
       "      <th></th>\n",
       "      <th>division</th>\n",
       "      <th>count(speeding)</th>\n",
       "      <th>avg(speeding)</th>\n",
       "      <th>min(speeding)</th>\n",
       "      <th>max(speeding)</th>\n",
       "    </tr>\n",
       "  </thead>\n",
       "  <tbody>\n",
       "    <tr>\n",
       "      <th>0</th>\n",
       "      <td>East North Central</td>\n",
       "      <td>5</td>\n",
       "      <td>4.106600</td>\n",
       "      <td>3.384</td>\n",
       "      <td>4.968</td>\n",
       "    </tr>\n",
       "    <tr>\n",
       "      <th>1</th>\n",
       "      <td>East South Central</td>\n",
       "      <td>4</td>\n",
       "      <td>4.533250</td>\n",
       "      <td>2.640</td>\n",
       "      <td>7.332</td>\n",
       "    </tr>\n",
       "    <tr>\n",
       "      <th>2</th>\n",
       "      <td>Middle Atlantic</td>\n",
       "      <td>2</td>\n",
       "      <td>5.446000</td>\n",
       "      <td>1.792</td>\n",
       "      <td>9.100</td>\n",
       "    </tr>\n",
       "    <tr>\n",
       "      <th>3</th>\n",
       "      <td>Mountain</td>\n",
       "      <td>8</td>\n",
       "      <td>5.812250</td>\n",
       "      <td>3.496</td>\n",
       "      <td>8.346</td>\n",
       "    </tr>\n",
       "    <tr>\n",
       "      <th>4</th>\n",
       "      <td>New England</td>\n",
       "      <td>6</td>\n",
       "      <td>4.084333</td>\n",
       "      <td>1.886</td>\n",
       "      <td>5.738</td>\n",
       "    </tr>\n",
       "    <tr>\n",
       "      <th>5</th>\n",
       "      <td>Pacific</td>\n",
       "      <td>5</td>\n",
       "      <td>5.949400</td>\n",
       "      <td>4.200</td>\n",
       "      <td>9.450</td>\n",
       "    </tr>\n",
       "    <tr>\n",
       "      <th>6</th>\n",
       "      <td>South Atlantic</td>\n",
       "      <td>9</td>\n",
       "      <td>5.030444</td>\n",
       "      <td>2.006</td>\n",
       "      <td>9.082</td>\n",
       "    </tr>\n",
       "    <tr>\n",
       "      <th>7</th>\n",
       "      <td>West North Central</td>\n",
       "      <td>7</td>\n",
       "      <td>4.293429</td>\n",
       "      <td>1.937</td>\n",
       "      <td>6.923</td>\n",
       "    </tr>\n",
       "    <tr>\n",
       "      <th>8</th>\n",
       "      <td>West South Central</td>\n",
       "      <td>4</td>\n",
       "      <td>6.333750</td>\n",
       "      <td>4.032</td>\n",
       "      <td>7.760</td>\n",
       "    </tr>\n",
       "  </tbody>\n",
       "</table>\n",
       "</div>"
      ],
      "text/plain": [
       "             division  count(speeding)  avg(speeding)  min(speeding)  \\\n",
       "0  East North Central                5       4.106600          3.384   \n",
       "1  East South Central                4       4.533250          2.640   \n",
       "2     Middle Atlantic                2       5.446000          1.792   \n",
       "3            Mountain                8       5.812250          3.496   \n",
       "4         New England                6       4.084333          1.886   \n",
       "5             Pacific                5       5.949400          4.200   \n",
       "6      South Atlantic                9       5.030444          2.006   \n",
       "7  West North Central                7       4.293429          1.937   \n",
       "8  West South Central                4       6.333750          4.032   \n",
       "\n",
       "   max(speeding)  \n",
       "0          4.968  \n",
       "1          7.332  \n",
       "2          9.100  \n",
       "3          8.346  \n",
       "4          5.738  \n",
       "5          9.450  \n",
       "6          9.082  \n",
       "7          6.923  \n",
       "8          7.760  "
      ]
     },
     "execution_count": 205,
     "metadata": {},
     "output_type": "execute_result"
    }
   ],
   "source": [
    "querySQL = 'SELECT division, count(speeding), avg(speeding), min(speeding), max(speeding) FROM crash GROUP BY division'\n",
    "query = ps.sqldf(querySQL)\n",
    "query"
   ]
  },
  {
   "cell_type": "markdown",
   "metadata": {},
   "source": [
    "## Question 8. Answer Question 7 but use Pandas functions"
   ]
  },
  {
   "cell_type": "code",
   "execution_count": 206,
   "metadata": {},
   "outputs": [
    {
     "data": {
      "text/html": [
       "<div>\n",
       "<style scoped>\n",
       "    .dataframe tbody tr th:only-of-type {\n",
       "        vertical-align: middle;\n",
       "    }\n",
       "\n",
       "    .dataframe tbody tr th {\n",
       "        vertical-align: top;\n",
       "    }\n",
       "\n",
       "    .dataframe thead th {\n",
       "        text-align: right;\n",
       "    }\n",
       "</style>\n",
       "<table border=\"1\" class=\"dataframe\">\n",
       "  <thead>\n",
       "    <tr style=\"text-align: right;\">\n",
       "      <th></th>\n",
       "      <th>count</th>\n",
       "      <th>mean</th>\n",
       "      <th>min</th>\n",
       "      <th>max</th>\n",
       "    </tr>\n",
       "    <tr>\n",
       "      <th>division</th>\n",
       "      <th></th>\n",
       "      <th></th>\n",
       "      <th></th>\n",
       "      <th></th>\n",
       "    </tr>\n",
       "  </thead>\n",
       "  <tbody>\n",
       "    <tr>\n",
       "      <th>East North Central</th>\n",
       "      <td>5.0</td>\n",
       "      <td>4.106600</td>\n",
       "      <td>3.384</td>\n",
       "      <td>4.968</td>\n",
       "    </tr>\n",
       "    <tr>\n",
       "      <th>East South Central</th>\n",
       "      <td>4.0</td>\n",
       "      <td>4.533250</td>\n",
       "      <td>2.640</td>\n",
       "      <td>7.332</td>\n",
       "    </tr>\n",
       "    <tr>\n",
       "      <th>Middle Atlantic</th>\n",
       "      <td>2.0</td>\n",
       "      <td>5.446000</td>\n",
       "      <td>1.792</td>\n",
       "      <td>9.100</td>\n",
       "    </tr>\n",
       "    <tr>\n",
       "      <th>Mountain</th>\n",
       "      <td>8.0</td>\n",
       "      <td>5.812250</td>\n",
       "      <td>3.496</td>\n",
       "      <td>8.346</td>\n",
       "    </tr>\n",
       "    <tr>\n",
       "      <th>New England</th>\n",
       "      <td>6.0</td>\n",
       "      <td>4.084333</td>\n",
       "      <td>1.886</td>\n",
       "      <td>5.738</td>\n",
       "    </tr>\n",
       "    <tr>\n",
       "      <th>Pacific</th>\n",
       "      <td>5.0</td>\n",
       "      <td>5.949400</td>\n",
       "      <td>4.200</td>\n",
       "      <td>9.450</td>\n",
       "    </tr>\n",
       "    <tr>\n",
       "      <th>South Atlantic</th>\n",
       "      <td>9.0</td>\n",
       "      <td>5.030444</td>\n",
       "      <td>2.006</td>\n",
       "      <td>9.082</td>\n",
       "    </tr>\n",
       "    <tr>\n",
       "      <th>West North Central</th>\n",
       "      <td>7.0</td>\n",
       "      <td>4.293429</td>\n",
       "      <td>1.937</td>\n",
       "      <td>6.923</td>\n",
       "    </tr>\n",
       "    <tr>\n",
       "      <th>West South Central</th>\n",
       "      <td>4.0</td>\n",
       "      <td>6.333750</td>\n",
       "      <td>4.032</td>\n",
       "      <td>7.760</td>\n",
       "    </tr>\n",
       "  </tbody>\n",
       "</table>\n",
       "</div>"
      ],
      "text/plain": [
       "                    count      mean    min    max\n",
       "division                                         \n",
       "East North Central    5.0  4.106600  3.384  4.968\n",
       "East South Central    4.0  4.533250  2.640  7.332\n",
       "Middle Atlantic       2.0  5.446000  1.792  9.100\n",
       "Mountain              8.0  5.812250  3.496  8.346\n",
       "New England           6.0  4.084333  1.886  5.738\n",
       "Pacific               5.0  5.949400  4.200  9.450\n",
       "South Atlantic        9.0  5.030444  2.006  9.082\n",
       "West North Central    7.0  4.293429  1.937  6.923\n",
       "West South Central    4.0  6.333750  4.032  7.760"
      ]
     },
     "execution_count": 206,
     "metadata": {},
     "output_type": "execute_result"
    }
   ],
   "source": [
    "crash.groupby(\"division\")[\"speeding\"].describe()[[\"count\",\"mean\",\"min\",\"max\"]]"
   ]
  },
  {
   "cell_type": "markdown",
   "metadata": {},
   "source": [
    "## Question 9. Calculate the Standard deviation, Skew and Kurtosis for the accidents, speeding, alcohol for each region"
   ]
  },
  {
   "cell_type": "code",
   "execution_count": 207,
   "metadata": {},
   "outputs": [
    {
     "data": {
      "text/plain": [
       "region\n",
       "Midwest      3.588988\n",
       "Northeast    3.077453\n",
       "South        4.537037\n",
       "West         3.325118\n",
       "Name: accidents, dtype: float64"
      ]
     },
     "execution_count": 207,
     "metadata": {},
     "output_type": "execute_result"
    }
   ],
   "source": [
    "regiondf = crash.groupby(['region'])\n",
    "accidents = regiondf['accidents']\n",
    "speeding = regiondf['speeding']\n",
    "alcohol = regiondf['alcohol']\n",
    "\n",
    "accidents.std()"
   ]
  },
  {
   "cell_type": "code",
   "execution_count": 208,
   "metadata": {},
   "outputs": [
    {
     "data": {
      "text/plain": [
       "region\n",
       "Midwest      1.537451\n",
       "Northeast    2.327773\n",
       "South        2.220711\n",
       "West         1.803138\n",
       "Name: speeding, dtype: float64"
      ]
     },
     "execution_count": 208,
     "metadata": {},
     "output_type": "execute_result"
    }
   ],
   "source": [
    "speeding.std()"
   ]
  },
  {
   "cell_type": "code",
   "execution_count": 209,
   "metadata": {},
   "outputs": [
    {
     "data": {
      "text/plain": [
       "region\n",
       "Midwest      1.824432\n",
       "Northeast    0.872950\n",
       "South        1.773576\n",
       "West         1.910356\n",
       "Name: alcohol, dtype: float64"
      ]
     },
     "execution_count": 209,
     "metadata": {},
     "output_type": "execute_result"
    }
   ],
   "source": [
    "alcohol.std()"
   ]
  },
  {
   "cell_type": "code",
   "execution_count": 210,
   "metadata": {},
   "outputs": [
    {
     "data": {
      "text/plain": [
       "region\n",
       "Midwest      0.950845\n",
       "Northeast    0.777587\n",
       "South       -1.125839\n",
       "West         0.064819\n",
       "Name: accidents, dtype: float64"
      ]
     },
     "execution_count": 210,
     "metadata": {},
     "output_type": "execute_result"
    }
   ],
   "source": [
    "accidents.skew()"
   ]
  },
  {
   "cell_type": "code",
   "execution_count": 211,
   "metadata": {},
   "outputs": [
    {
     "data": {
      "text/plain": [
       "region\n",
       "Midwest      0.121197\n",
       "Northeast    1.051666\n",
       "South        0.172035\n",
       "West         0.697441\n",
       "Name: speeding, dtype: float64"
      ]
     },
     "execution_count": 211,
     "metadata": {},
     "output_type": "execute_result"
    }
   ],
   "source": [
    "speeding.skew()"
   ]
  },
  {
   "cell_type": "code",
   "execution_count": 212,
   "metadata": {},
   "outputs": [
    {
     "data": {
      "text/plain": [
       "region\n",
       "Midwest      2.093467\n",
       "Northeast    0.764250\n",
       "South        0.330988\n",
       "West         1.159752\n",
       "Name: alcohol, dtype: float64"
      ]
     },
     "execution_count": 212,
     "metadata": {},
     "output_type": "execute_result"
    }
   ],
   "source": [
    "alcohol.skew()"
   ]
  },
  {
   "cell_type": "code",
   "execution_count": 213,
   "metadata": {},
   "outputs": [
    {
     "data": {
      "text/plain": [
       "region\n",
       "Midwest      2.067092\n",
       "Northeast    0.726713\n",
       "South        1.860064\n",
       "West        -1.048692\n",
       "Name: accidents, dtype: float64"
      ]
     },
     "execution_count": 213,
     "metadata": {},
     "output_type": "execute_result"
    }
   ],
   "source": [
    "accidents.apply(pd.DataFrame.kurtosis)"
   ]
  },
  {
   "cell_type": "code",
   "execution_count": 214,
   "metadata": {},
   "outputs": [
    {
     "data": {
      "text/plain": [
       "region\n",
       "Midwest     -0.737061\n",
       "Northeast    1.763520\n",
       "South       -1.327699\n",
       "West        -0.465455\n",
       "Name: speeding, dtype: float64"
      ]
     },
     "execution_count": 214,
     "metadata": {},
     "output_type": "execute_result"
    }
   ],
   "source": [
    "speeding.apply(pd.DataFrame.kurtosis)"
   ]
  },
  {
   "cell_type": "code",
   "execution_count": 215,
   "metadata": {},
   "outputs": [
    {
     "data": {
      "text/plain": [
       "region\n",
       "Midwest      5.597372\n",
       "Northeast    0.890501\n",
       "South        2.125568\n",
       "West         2.219220\n",
       "Name: alcohol, dtype: float64"
      ]
     },
     "execution_count": 215,
     "metadata": {},
     "output_type": "execute_result"
    }
   ],
   "source": [
    "alcohol.apply(pd.DataFrame.kurtosis)"
   ]
  },
  {
   "cell_type": "markdown",
   "metadata": {},
   "source": [
    "## Question 10. Plot the histogram of accidents distribution for different region using 5 bins"
   ]
  },
  {
   "cell_type": "code",
   "execution_count": 216,
   "metadata": {},
   "outputs": [
    {
     "data": {
      "text/plain": [
       "region\n",
       "Midwest      AxesSubplot(0.1,0.15;0.8x0.75)\n",
       "Northeast    AxesSubplot(0.1,0.15;0.8x0.75)\n",
       "South        AxesSubplot(0.1,0.15;0.8x0.75)\n",
       "West         AxesSubplot(0.1,0.15;0.8x0.75)\n",
       "Name: accidents, dtype: object"
      ]
     },
     "execution_count": 216,
     "metadata": {},
     "output_type": "execute_result"
    },
    {
     "data": {
      "image/png": "[encoded data removed]",
      "text/plain": [
       "<Figure size 432x288 with 1 Axes>"
      ]
     },
     "metadata": {
      "needs_background": "light"
     },
     "output_type": "display_data"
    },
    {
     "data": {
      "image/png": "[encoded data removed]",
      "text/plain": [
       "<Figure size 432x288 with 1 Axes>"
      ]
     },
     "metadata": {
      "needs_background": "light"
     },
     "output_type": "display_data"
    },
    {
     "data": {
      "image/png": "[encoded data removed]",
      "text/plain": [
       "<Figure size 432x288 with 1 Axes>"
      ]
     },
     "metadata": {
      "needs_background": "light"
     },
     "output_type": "display_data"
    },
    {
     "data": {
      "image/png": "[encoded data removed]",
      "text/plain": [
       "<Figure size 432x288 with 1 Axes>"
      ]
     },
     "metadata": {
      "needs_background": "light"
     },
     "output_type": "display_data"
    }
   ],
   "source": [
    "accidents.hist(by=crash[\"region\"], bins=5)"
   ]
  },
  {
   "cell_type": "markdown",
   "metadata": {},
   "source": [
    "## Question 11. How would you describe the accidents distribution for different region based on the Skew and Kurotsis?\n",
    "(i.e. who has positive and negative skew and who has positive and negative Kurotsis)"
   ]
  },
  {
   "cell_type": "markdown",
   "metadata": {},
   "source": [
    "The distribution of accidents accross all regions:\n",
    "The Midwest has the highest positive skew, the Northeast and West both have low positive skews, and the south has a negative skew.\n",
    "As for kurtosis, the midwest has the highest kurtosis at 2.067, followed by the South with a 1.860 kurtosis, North east being on the smaller positive side at 0.726, and the west being the only region with a negative kurtosis at -1.048.\n",
    "Since the Midwest has the highest kurtosis and highest positive skew, we can assume that the midwest as a region has the most accidents.\n"
   ]
  },
  {
   "cell_type": "markdown",
   "metadata": {},
   "source": [
    "## Question 12. Calculate correlation of all the factors among themselves and determine which factors among speeding, alcohol or ins_premium will affect accidents the most?"
   ]
  },
  {
   "cell_type": "code",
   "execution_count": 217,
   "metadata": {},
   "outputs": [
    {
     "data": {
      "text/html": [
       "<div>\n",
       "<style scoped>\n",
       "    .dataframe tbody tr th:only-of-type {\n",
       "        vertical-align: middle;\n",
       "    }\n",
       "\n",
       "    .dataframe tbody tr th {\n",
       "        vertical-align: top;\n",
       "    }\n",
       "\n",
       "    .dataframe thead th {\n",
       "        text-align: right;\n",
       "    }\n",
       "</style>\n",
       "<table border=\"1\" class=\"dataframe\">\n",
       "  <thead>\n",
       "    <tr style=\"text-align: right;\">\n",
       "      <th></th>\n",
       "      <th>accidents</th>\n",
       "      <th>speeding</th>\n",
       "      <th>alcohol</th>\n",
       "      <th>not_distracted</th>\n",
       "      <th>no_previous</th>\n",
       "      <th>ins_premium</th>\n",
       "      <th>ins_losses</th>\n",
       "    </tr>\n",
       "  </thead>\n",
       "  <tbody>\n",
       "    <tr>\n",
       "      <th>accidents</th>\n",
       "      <td>1.000000</td>\n",
       "      <td>0.608632</td>\n",
       "      <td>0.850706</td>\n",
       "      <td>0.826209</td>\n",
       "      <td>0.956009</td>\n",
       "      <td>-0.174157</td>\n",
       "      <td>-0.025507</td>\n",
       "    </tr>\n",
       "    <tr>\n",
       "      <th>speeding</th>\n",
       "      <td>0.608632</td>\n",
       "      <td>1.000000</td>\n",
       "      <td>0.667377</td>\n",
       "      <td>0.585337</td>\n",
       "      <td>0.568831</td>\n",
       "      <td>-0.059254</td>\n",
       "      <td>-0.059624</td>\n",
       "    </tr>\n",
       "    <tr>\n",
       "      <th>alcohol</th>\n",
       "      <td>0.850706</td>\n",
       "      <td>0.667377</td>\n",
       "      <td>1.000000</td>\n",
       "      <td>0.730435</td>\n",
       "      <td>0.780696</td>\n",
       "      <td>-0.146921</td>\n",
       "      <td>-0.103849</td>\n",
       "    </tr>\n",
       "    <tr>\n",
       "      <th>not_distracted</th>\n",
       "      <td>0.826209</td>\n",
       "      <td>0.585337</td>\n",
       "      <td>0.730435</td>\n",
       "      <td>1.000000</td>\n",
       "      <td>0.745712</td>\n",
       "      <td>-0.157416</td>\n",
       "      <td>-0.068733</td>\n",
       "    </tr>\n",
       "    <tr>\n",
       "      <th>no_previous</th>\n",
       "      <td>0.956009</td>\n",
       "      <td>0.568831</td>\n",
       "      <td>0.780696</td>\n",
       "      <td>0.745712</td>\n",
       "      <td>1.000000</td>\n",
       "      <td>-0.119067</td>\n",
       "      <td>0.007872</td>\n",
       "    </tr>\n",
       "    <tr>\n",
       "      <th>ins_premium</th>\n",
       "      <td>-0.174157</td>\n",
       "      <td>-0.059254</td>\n",
       "      <td>-0.146921</td>\n",
       "      <td>-0.157416</td>\n",
       "      <td>-0.119067</td>\n",
       "      <td>1.000000</td>\n",
       "      <td>0.625381</td>\n",
       "    </tr>\n",
       "    <tr>\n",
       "      <th>ins_losses</th>\n",
       "      <td>-0.025507</td>\n",
       "      <td>-0.059624</td>\n",
       "      <td>-0.103849</td>\n",
       "      <td>-0.068733</td>\n",
       "      <td>0.007872</td>\n",
       "      <td>0.625381</td>\n",
       "      <td>1.000000</td>\n",
       "    </tr>\n",
       "  </tbody>\n",
       "</table>\n",
       "</div>"
      ],
      "text/plain": [
       "                accidents  speeding   alcohol  not_distracted  no_previous  \\\n",
       "accidents        1.000000  0.608632  0.850706        0.826209     0.956009   \n",
       "speeding         0.608632  1.000000  0.667377        0.585337     0.568831   \n",
       "alcohol          0.850706  0.667377  1.000000        0.730435     0.780696   \n",
       "not_distracted   0.826209  0.585337  0.730435        1.000000     0.745712   \n",
       "no_previous      0.956009  0.568831  0.780696        0.745712     1.000000   \n",
       "ins_premium     -0.174157 -0.059254 -0.146921       -0.157416    -0.119067   \n",
       "ins_losses      -0.025507 -0.059624 -0.103849       -0.068733     0.007872   \n",
       "\n",
       "                ins_premium  ins_losses  \n",
       "accidents         -0.174157   -0.025507  \n",
       "speeding          -0.059254   -0.059624  \n",
       "alcohol           -0.146921   -0.103849  \n",
       "not_distracted    -0.157416   -0.068733  \n",
       "no_previous       -0.119067    0.007872  \n",
       "ins_premium        1.000000    0.625381  \n",
       "ins_losses         0.625381    1.000000  "
      ]
     },
     "execution_count": 217,
     "metadata": {},
     "output_type": "execute_result"
    }
   ],
   "source": [
    "crash.corr()"
   ]
  },
  {
   "cell_type": "markdown",
   "metadata": {},
   "source": [
    "It would seem that among speeding, alcohol, or ins_premium, that alcohol will affect accidents the most (the highest correlation at 0.85)"
   ]
  },
  {
   "cell_type": "markdown",
   "metadata": {},
   "source": [
    "### Now Load a different dataset (MPG dataset number 3)"
   ]
  },
  {
   "cell_type": "code",
   "execution_count": 218,
   "metadata": {},
   "outputs": [
    {
     "name": "stdout",
     "output_type": "stream",
     "text": [
      "(405, 9)\n"
     ]
    },
    {
     "data": {
      "text/html": [
       "<div>\n",
       "<style scoped>\n",
       "    .dataframe tbody tr th:only-of-type {\n",
       "        vertical-align: middle;\n",
       "    }\n",
       "\n",
       "    .dataframe tbody tr th {\n",
       "        vertical-align: top;\n",
       "    }\n",
       "\n",
       "    .dataframe thead th {\n",
       "        text-align: right;\n",
       "    }\n",
       "</style>\n",
       "<table border=\"1\" class=\"dataframe\">\n",
       "  <thead>\n",
       "    <tr style=\"text-align: right;\">\n",
       "      <th></th>\n",
       "      <th>mpg</th>\n",
       "      <th>cylinders</th>\n",
       "      <th>displacement</th>\n",
       "      <th>horsepower</th>\n",
       "      <th>weight</th>\n",
       "      <th>acceleration</th>\n",
       "      <th>model_year</th>\n",
       "      <th>origin</th>\n",
       "      <th>name</th>\n",
       "    </tr>\n",
       "  </thead>\n",
       "  <tbody>\n",
       "    <tr>\n",
       "      <th>0</th>\n",
       "      <td>18.0</td>\n",
       "      <td>8</td>\n",
       "      <td>307.0</td>\n",
       "      <td>130.0</td>\n",
       "      <td>3504.0</td>\n",
       "      <td>12.0</td>\n",
       "      <td>70</td>\n",
       "      <td>usa</td>\n",
       "      <td>chevrolet chevelle malibu</td>\n",
       "    </tr>\n",
       "    <tr>\n",
       "      <th>1</th>\n",
       "      <td>15.0</td>\n",
       "      <td>8</td>\n",
       "      <td>350.0</td>\n",
       "      <td>165.0</td>\n",
       "      <td>3693.0</td>\n",
       "      <td>11.5</td>\n",
       "      <td>70</td>\n",
       "      <td>usa</td>\n",
       "      <td>buick skylark 320</td>\n",
       "    </tr>\n",
       "    <tr>\n",
       "      <th>2</th>\n",
       "      <td>18.0</td>\n",
       "      <td>8</td>\n",
       "      <td>318.0</td>\n",
       "      <td>150.0</td>\n",
       "      <td>3436.0</td>\n",
       "      <td>11.0</td>\n",
       "      <td>70</td>\n",
       "      <td>usa</td>\n",
       "      <td>plymouth satellite</td>\n",
       "    </tr>\n",
       "    <tr>\n",
       "      <th>3</th>\n",
       "      <td>16.0</td>\n",
       "      <td>8</td>\n",
       "      <td>304.0</td>\n",
       "      <td>150.0</td>\n",
       "      <td>3433.0</td>\n",
       "      <td>12.0</td>\n",
       "      <td>70</td>\n",
       "      <td>usa</td>\n",
       "      <td>amc rebel sst</td>\n",
       "    </tr>\n",
       "    <tr>\n",
       "      <th>4</th>\n",
       "      <td>17.0</td>\n",
       "      <td>8</td>\n",
       "      <td>302.0</td>\n",
       "      <td>140.0</td>\n",
       "      <td>3449.0</td>\n",
       "      <td>10.5</td>\n",
       "      <td>70</td>\n",
       "      <td>usa</td>\n",
       "      <td>ford torino</td>\n",
       "    </tr>\n",
       "  </tbody>\n",
       "</table>\n",
       "</div>"
      ],
      "text/plain": [
       "    mpg  cylinders  displacement  horsepower  weight  acceleration  \\\n",
       "0  18.0          8         307.0       130.0  3504.0          12.0   \n",
       "1  15.0          8         350.0       165.0  3693.0          11.5   \n",
       "2  18.0          8         318.0       150.0  3436.0          11.0   \n",
       "3  16.0          8         304.0       150.0  3433.0          12.0   \n",
       "4  17.0          8         302.0       140.0  3449.0          10.5   \n",
       "\n",
       "   model_year origin                       name  \n",
       "0          70    usa  chevrolet chevelle malibu  \n",
       "1          70    usa          buick skylark 320  \n",
       "2          70    usa         plymouth satellite  \n",
       "3          70    usa              amc rebel sst  \n",
       "4          70    usa                ford torino  "
      ]
     },
     "execution_count": 218,
     "metadata": {},
     "output_type": "execute_result"
    }
   ],
   "source": [
    "mpg = pd.read_csv(\"mpg3.csv\")\n",
    "print(mpg.shape)\n",
    "mpg.head()"
   ]
  },
  {
   "cell_type": "markdown",
   "metadata": {},
   "source": [
    "# Question 13: Check to see if there are any missing values. Fix the missing values by imputing value from the mean."
   ]
  },
  {
   "cell_type": "markdown",
   "metadata": {},
   "source": [
    "### Type your code to fix the missing values by imputing value from the mean"
   ]
  },
  {
   "cell_type": "code",
   "execution_count": 219,
   "metadata": {},
   "outputs": [
    {
     "data": {
      "text/plain": [
       "mpg              True\n",
       "cylinders       False\n",
       "displacement    False\n",
       "horsepower       True\n",
       "weight           True\n",
       "acceleration    False\n",
       "model_year      False\n",
       "origin          False\n",
       "name            False\n",
       "dtype: bool"
      ]
     },
     "execution_count": 219,
     "metadata": {},
     "output_type": "execute_result"
    }
   ],
   "source": [
    "mpg.isnull().any()"
   ]
  },
  {
   "cell_type": "code",
   "execution_count": 220,
   "metadata": {},
   "outputs": [],
   "source": [
    "mpg['mpg'] = mpg['mpg'].fillna(mpg['mpg'].mean())\n",
    "mpg['horsepower'] = mpg['horsepower'].fillna(mpg['horsepower'].mean())\n",
    "mpg['weight'] = mpg['weight'].fillna(mpg['weight'].mean())"
   ]
  },
  {
   "cell_type": "code",
   "execution_count": 221,
   "metadata": {},
   "outputs": [
    {
     "data": {
      "text/plain": [
       "mpg             False\n",
       "cylinders       False\n",
       "displacement    False\n",
       "horsepower      False\n",
       "weight          False\n",
       "acceleration    False\n",
       "model_year      False\n",
       "origin          False\n",
       "name            False\n",
       "dtype: bool"
      ]
     },
     "execution_count": 221,
     "metadata": {},
     "output_type": "execute_result"
    }
   ],
   "source": [
    "mpg.isnull().any()"
   ]
  },
  {
   "cell_type": "code",
   "execution_count": null,
   "metadata": {},
   "outputs": [],
   "source": []
  }
 ],
 "metadata": {
  "kernelspec": {
   "display_name": "Python 3",
   "language": "python",
   "name": "python3"
  },
  "language_info": {
   "codemirror_mode": {
    "name": "ipython",
    "version": 3
   },
   "file_extension": ".py",
   "mimetype": "text/x-python",
   "name": "python",
   "nbconvert_exporter": "python",
   "pygments_lexer": "ipython3",
   "version": "3.8.8"
  }
 },
 "nbformat": 4,
 "nbformat_minor": 2
}
